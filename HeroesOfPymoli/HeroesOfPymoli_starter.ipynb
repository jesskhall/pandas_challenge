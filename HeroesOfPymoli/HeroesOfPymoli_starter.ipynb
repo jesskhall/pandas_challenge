{
 "cells": [
  {
   "cell_type": "markdown",
   "metadata": {},
   "source": [
    "### Note\n",
    "* Instructions have been included for each segment. You do not have to follow them exactly, but they are included to help you think through the steps."
   ]
  },
  {
   "cell_type": "code",
   "execution_count": 3,
   "metadata": {},
   "outputs": [
    {
     "data": {
      "text/html": [
       "<div>\n",
       "<style scoped>\n",
       "    .dataframe tbody tr th:only-of-type {\n",
       "        vertical-align: middle;\n",
       "    }\n",
       "\n",
       "    .dataframe tbody tr th {\n",
       "        vertical-align: top;\n",
       "    }\n",
       "\n",
       "    .dataframe thead th {\n",
       "        text-align: right;\n",
       "    }\n",
       "</style>\n",
       "<table border=\"1\" class=\"dataframe\">\n",
       "  <thead>\n",
       "    <tr style=\"text-align: right;\">\n",
       "      <th></th>\n",
       "      <th>Purchase ID</th>\n",
       "      <th>SN</th>\n",
       "      <th>Age</th>\n",
       "      <th>Gender</th>\n",
       "      <th>Item ID</th>\n",
       "      <th>Item Name</th>\n",
       "      <th>Price</th>\n",
       "    </tr>\n",
       "  </thead>\n",
       "  <tbody>\n",
       "    <tr>\n",
       "      <th>0</th>\n",
       "      <td>0</td>\n",
       "      <td>Lisim78</td>\n",
       "      <td>20</td>\n",
       "      <td>Male</td>\n",
       "      <td>108</td>\n",
       "      <td>Extraction, Quickblade Of Trembling Hands</td>\n",
       "      <td>3.53</td>\n",
       "    </tr>\n",
       "    <tr>\n",
       "      <th>1</th>\n",
       "      <td>1</td>\n",
       "      <td>Lisovynya38</td>\n",
       "      <td>40</td>\n",
       "      <td>Male</td>\n",
       "      <td>143</td>\n",
       "      <td>Frenzied Scimitar</td>\n",
       "      <td>1.56</td>\n",
       "    </tr>\n",
       "    <tr>\n",
       "      <th>2</th>\n",
       "      <td>2</td>\n",
       "      <td>Ithergue48</td>\n",
       "      <td>24</td>\n",
       "      <td>Male</td>\n",
       "      <td>92</td>\n",
       "      <td>Final Critic</td>\n",
       "      <td>4.88</td>\n",
       "    </tr>\n",
       "    <tr>\n",
       "      <th>3</th>\n",
       "      <td>3</td>\n",
       "      <td>Chamassasya86</td>\n",
       "      <td>24</td>\n",
       "      <td>Male</td>\n",
       "      <td>100</td>\n",
       "      <td>Blindscythe</td>\n",
       "      <td>3.27</td>\n",
       "    </tr>\n",
       "    <tr>\n",
       "      <th>4</th>\n",
       "      <td>4</td>\n",
       "      <td>Iskosia90</td>\n",
       "      <td>23</td>\n",
       "      <td>Male</td>\n",
       "      <td>131</td>\n",
       "      <td>Fury</td>\n",
       "      <td>1.44</td>\n",
       "    </tr>\n",
       "  </tbody>\n",
       "</table>\n",
       "</div>"
      ],
      "text/plain": [
       "   Purchase ID             SN  Age Gender  Item ID  \\\n",
       "0            0        Lisim78   20   Male      108   \n",
       "1            1    Lisovynya38   40   Male      143   \n",
       "2            2     Ithergue48   24   Male       92   \n",
       "3            3  Chamassasya86   24   Male      100   \n",
       "4            4      Iskosia90   23   Male      131   \n",
       "\n",
       "                                   Item Name  Price  \n",
       "0  Extraction, Quickblade Of Trembling Hands   3.53  \n",
       "1                          Frenzied Scimitar   1.56  \n",
       "2                               Final Critic   4.88  \n",
       "3                                Blindscythe   3.27  \n",
       "4                                       Fury   1.44  "
      ]
     },
     "execution_count": 3,
     "metadata": {},
     "output_type": "execute_result"
    }
   ],
   "source": [
    "# Dependencies and Setup\n",
    "import pandas as pd\n",
    "import numpy as np\n",
    "# File to Load\n",
    "csv_path = \"Resources/purchase_data.csv\"\n",
    "# Read Purchasing File and store into Pandas data frame\n",
    "purchase_data_df = pd.read_csv(csv_path)\n",
    "\n",
    "\n",
    "purchase_data_df.head()"
   ]
  },
  {
   "cell_type": "markdown",
   "metadata": {},
   "source": [
    "## Player Count"
   ]
  },
  {
   "cell_type": "code",
   "execution_count": 4,
   "metadata": {},
   "outputs": [
    {
     "data": {
      "text/plain": [
       "576"
      ]
     },
     "execution_count": 4,
     "metadata": {},
     "output_type": "execute_result"
    }
   ],
   "source": [
    "player_count = len(purchase_data_df['SN'].value_counts())\n",
    "player_count"
   ]
  },
  {
   "cell_type": "markdown",
   "metadata": {},
   "source": [
    "## Purchasing Analysis (Total)"
   ]
  },
  {
   "cell_type": "markdown",
   "metadata": {},
   "source": [
    "* Run basic calculations to obtain number of unique items, average price, etc.\n",
    "\n",
    "\n",
    "* Create a summary data frame to hold the results\n",
    "\n",
    "\n",
    "* Optional: give the displayed data cleaner formatting\n",
    "\n",
    "\n",
    "* Display the summary data frame\n"
   ]
  },
  {
   "cell_type": "code",
   "execution_count": 5,
   "metadata": {
    "scrolled": true
   },
   "outputs": [],
   "source": [
    "purchase_data_df.head()\n",
    "\n",
    "unique_items = len((purchase_data_df[\"Item ID\"]).unique())\n",
    "\n",
    "average_price = (purchase_data_df[\"Price\"]).mean()\n",
    "\n",
    "total_purchases = (purchase_data_df[\"Purchase ID\"]).count()\n",
    "\n",
    "revenue_total = (purchase_data_df[\"Price\"]).sum()\n",
    "\n",
    "purchase_summary = pd.DataFrame({\"Total Unique Items\":[unique_items], \"Average Price\": [average_price],\n",
    "                                           \"Total Purchases\":[total_purchases],\n",
    "                                            \"Total Revenue Generated\":[revenue_total]})"
   ]
  },
  {
   "cell_type": "code",
   "execution_count": 7,
   "metadata": {
    "scrolled": false
   },
   "outputs": [
    {
     "data": {
      "text/html": [
       "<div>\n",
       "<style scoped>\n",
       "    .dataframe tbody tr th:only-of-type {\n",
       "        vertical-align: middle;\n",
       "    }\n",
       "\n",
       "    .dataframe tbody tr th {\n",
       "        vertical-align: top;\n",
       "    }\n",
       "\n",
       "    .dataframe thead th {\n",
       "        text-align: right;\n",
       "    }\n",
       "</style>\n",
       "<table border=\"1\" class=\"dataframe\">\n",
       "  <thead>\n",
       "    <tr style=\"text-align: right;\">\n",
       "      <th></th>\n",
       "      <th>Total Unique Items</th>\n",
       "      <th>Average Price</th>\n",
       "      <th>Total Purchases</th>\n",
       "      <th>Total Revenue Generated</th>\n",
       "    </tr>\n",
       "  </thead>\n",
       "  <tbody>\n",
       "    <tr>\n",
       "      <th>0</th>\n",
       "      <td>179</td>\n",
       "      <td>3.050987</td>\n",
       "      <td>780</td>\n",
       "      <td>2379.77</td>\n",
       "    </tr>\n",
       "  </tbody>\n",
       "</table>\n",
       "</div>"
      ],
      "text/plain": [
       "   Total Unique Items  Average Price  Total Purchases  Total Revenue Generated\n",
       "0                 179       3.050987              780                  2379.77"
      ]
     },
     "execution_count": 7,
     "metadata": {},
     "output_type": "execute_result"
    }
   ],
   "source": [
    "purchase_summary"
   ]
  },
  {
   "cell_type": "code",
   "execution_count": 10,
   "metadata": {},
   "outputs": [
    {
     "data": {
      "text/html": [
       "<style  type=\"text/css\" >\n",
       "</style><table id=\"T_053b83a0_0d9f_11eb_b013_402343a8de8c\" ><thead>    <tr>        <th class=\"blank level0\" ></th>        <th class=\"col_heading level0 col0\" >Total Unique Items</th>        <th class=\"col_heading level0 col1\" >Average Price</th>        <th class=\"col_heading level0 col2\" >Total Purchases</th>        <th class=\"col_heading level0 col3\" >Total Revenue Generated</th>    </tr></thead><tbody>\n",
       "                <tr>\n",
       "                        <th id=\"T_053b83a0_0d9f_11eb_b013_402343a8de8clevel0_row0\" class=\"row_heading level0 row0\" >0</th>\n",
       "                        <td id=\"T_053b83a0_0d9f_11eb_b013_402343a8de8crow0_col0\" class=\"data row0 col0\" >179</td>\n",
       "                        <td id=\"T_053b83a0_0d9f_11eb_b013_402343a8de8crow0_col1\" class=\"data row0 col1\" >$3.05</td>\n",
       "                        <td id=\"T_053b83a0_0d9f_11eb_b013_402343a8de8crow0_col2\" class=\"data row0 col2\" >780</td>\n",
       "                        <td id=\"T_053b83a0_0d9f_11eb_b013_402343a8de8crow0_col3\" class=\"data row0 col3\" >2379.770000</td>\n",
       "            </tr>\n",
       "    </tbody></table>"
      ],
      "text/plain": [
       "<pandas.io.formats.style.Styler at 0x140db306f10>"
      ]
     },
     "execution_count": 10,
     "metadata": {},
     "output_type": "execute_result"
    }
   ],
   "source": [
    "purchase_summary.style.format({'Average Price':\"${:,.2f}\",\n",
    "                                          'Total Revenue': '${:,.2f}'})"
   ]
  },
  {
   "cell_type": "markdown",
   "metadata": {},
   "source": [
    "## Gender Demographics"
   ]
  },
  {
   "cell_type": "markdown",
   "metadata": {},
   "source": [
    "* Percentage and Count of Male Players\n",
    "\n",
    "\n",
    "* Percentage and Count of Female Players\n",
    "\n",
    "\n",
    "* Percentage and Count of Other / Non-Disclosed\n",
    "\n",
    "\n"
   ]
  },
  {
   "cell_type": "code",
   "execution_count": 12,
   "metadata": {},
   "outputs": [
    {
     "data": {
      "text/html": [
       "<style  type=\"text/css\" >\n",
       "</style><table id=\"T_caf64e8d_0d9f_11eb_a4af_402343a8de8c\" ><thead>    <tr>        <th class=\"blank level0\" ></th>        <th class=\"col_heading level0 col0\" >Percentage of Players</th>        <th class=\"col_heading level0 col1\" >Total Count</th>    </tr></thead><tbody>\n",
       "                <tr>\n",
       "                        <th id=\"T_caf64e8d_0d9f_11eb_a4af_402343a8de8clevel0_row0\" class=\"row_heading level0 row0\" >Male</th>\n",
       "                        <td id=\"T_caf64e8d_0d9f_11eb_a4af_402343a8de8crow0_col0\" class=\"data row0 col0\" >84.03</td>\n",
       "                        <td id=\"T_caf64e8d_0d9f_11eb_a4af_402343a8de8crow0_col1\" class=\"data row0 col1\" >484</td>\n",
       "            </tr>\n",
       "            <tr>\n",
       "                        <th id=\"T_caf64e8d_0d9f_11eb_a4af_402343a8de8clevel0_row1\" class=\"row_heading level0 row1\" >Female</th>\n",
       "                        <td id=\"T_caf64e8d_0d9f_11eb_a4af_402343a8de8crow1_col0\" class=\"data row1 col0\" >14.06</td>\n",
       "                        <td id=\"T_caf64e8d_0d9f_11eb_a4af_402343a8de8crow1_col1\" class=\"data row1 col1\" >81</td>\n",
       "            </tr>\n",
       "            <tr>\n",
       "                        <th id=\"T_caf64e8d_0d9f_11eb_a4af_402343a8de8clevel0_row2\" class=\"row_heading level0 row2\" >Other / Non-Disclosed</th>\n",
       "                        <td id=\"T_caf64e8d_0d9f_11eb_a4af_402343a8de8crow2_col0\" class=\"data row2 col0\" >1.91</td>\n",
       "                        <td id=\"T_caf64e8d_0d9f_11eb_a4af_402343a8de8crow2_col1\" class=\"data row2 col1\" >11</td>\n",
       "            </tr>\n",
       "    </tbody></table>"
      ],
      "text/plain": [
       "<pandas.io.formats.style.Styler at 0x140db2c4e50>"
      ]
     },
     "execution_count": 12,
     "metadata": {},
     "output_type": "execute_result"
    }
   ],
   "source": [
    "# purchases per_Gender\n",
    "stats_per_gender = purchase_data_df.groupby(\"Gender\")\n",
    "\n",
    "# Count the total of screen names \"SN\" by gender\n",
    "gender_count = stats_per_gender.nunique()[\"SN\"]\n",
    "\n",
    "# Total count by gender and divivde by total players\n",
    "perc_players = gender_count / player_count * 100\n",
    "\n",
    "# Create data frame with obtained values\n",
    "gender_dems = pd.DataFrame({\"Percentage of Players\": perc_players, \"Total Count\": gender_count})\n",
    "\n",
    "# Format the data frame with no index name in the corner\n",
    "gender_dems.index.name = None\n",
    "\n",
    "# Format the values sorted by total count in descending order, and two decimal places for the percentage\n",
    "gender_dems.sort_values([\"Total Count\"], ascending = False).style.format({\"Percentage of Players\":\"{:.2f}\"})\n"
   ]
  },
  {
   "cell_type": "markdown",
   "metadata": {},
   "source": [
    "\n",
    "## Purchasing Analysis (Gender)"
   ]
  },
  {
   "cell_type": "markdown",
   "metadata": {},
   "source": [
    "* Run basic calculations to obtain purchase count, avg. purchase price, avg. purchase total per person etc. by gender\n",
    "\n",
    "\n",
    "\n",
    "\n",
    "* Create a summary data frame to hold the results\n",
    "\n",
    "\n",
    "* Optional: give the displayed data cleaner formatting\n",
    "\n",
    "\n",
    "* Display the summary data frame"
   ]
  },
  {
   "cell_type": "code",
   "execution_count": 16,
   "metadata": {},
   "outputs": [
    {
     "data": {
      "text/html": [
       "<style  type=\"text/css\" >\n",
       "</style><table id=\"T_1c9d320f_0da1_11eb_9de7_402343a8de8c\" ><thead>    <tr>        <th class=\"blank level0\" ></th>        <th class=\"col_heading level0 col0\" ># Purchase Count</th>        <th class=\"col_heading level0 col1\" >Average Purchase Price</th>        <th class=\"col_heading level0 col2\" >Average Purchase Value</th>        <th class=\"col_heading level0 col3\" >Avg Purchase Total per Person</th>    </tr>    <tr>        <th class=\"index_name level0\" >Gender</th>        <th class=\"blank\" ></th>        <th class=\"blank\" ></th>        <th class=\"blank\" ></th>        <th class=\"blank\" ></th>    </tr></thead><tbody>\n",
       "                <tr>\n",
       "                        <th id=\"T_1c9d320f_0da1_11eb_9de7_402343a8de8clevel0_row0\" class=\"row_heading level0 row0\" >Female</th>\n",
       "                        <td id=\"T_1c9d320f_0da1_11eb_9de7_402343a8de8crow0_col0\" class=\"data row0 col0\" >780</td>\n",
       "                        <td id=\"T_1c9d320f_0da1_11eb_9de7_402343a8de8crow0_col1\" class=\"data row0 col1\" >$3.20</td>\n",
       "                        <td id=\"T_1c9d320f_0da1_11eb_9de7_402343a8de8crow0_col2\" class=\"data row0 col2\" >$361.94</td>\n",
       "                        <td id=\"T_1c9d320f_0da1_11eb_9de7_402343a8de8crow0_col3\" class=\"data row0 col3\" >$4.47</td>\n",
       "            </tr>\n",
       "            <tr>\n",
       "                        <th id=\"T_1c9d320f_0da1_11eb_9de7_402343a8de8clevel0_row1\" class=\"row_heading level0 row1\" >Male</th>\n",
       "                        <td id=\"T_1c9d320f_0da1_11eb_9de7_402343a8de8crow1_col0\" class=\"data row1 col0\" >780</td>\n",
       "                        <td id=\"T_1c9d320f_0da1_11eb_9de7_402343a8de8crow1_col1\" class=\"data row1 col1\" >$3.02</td>\n",
       "                        <td id=\"T_1c9d320f_0da1_11eb_9de7_402343a8de8crow1_col2\" class=\"data row1 col2\" >$1,967.64</td>\n",
       "                        <td id=\"T_1c9d320f_0da1_11eb_9de7_402343a8de8crow1_col3\" class=\"data row1 col3\" >$4.07</td>\n",
       "            </tr>\n",
       "            <tr>\n",
       "                        <th id=\"T_1c9d320f_0da1_11eb_9de7_402343a8de8clevel0_row2\" class=\"row_heading level0 row2\" >Other / Non-Disclosed</th>\n",
       "                        <td id=\"T_1c9d320f_0da1_11eb_9de7_402343a8de8crow2_col0\" class=\"data row2 col0\" >780</td>\n",
       "                        <td id=\"T_1c9d320f_0da1_11eb_9de7_402343a8de8crow2_col1\" class=\"data row2 col1\" >$3.35</td>\n",
       "                        <td id=\"T_1c9d320f_0da1_11eb_9de7_402343a8de8crow2_col2\" class=\"data row2 col2\" >$50.19</td>\n",
       "                        <td id=\"T_1c9d320f_0da1_11eb_9de7_402343a8de8crow2_col3\" class=\"data row2 col3\" >$4.56</td>\n",
       "            </tr>\n",
       "    </tbody></table>"
      ],
      "text/plain": [
       "<pandas.io.formats.style.Styler at 0x140db36acd0>"
      ]
     },
     "execution_count": 16,
     "metadata": {},
     "output_type": "execute_result"
    }
   ],
   "source": [
    "# total purchases per gender \n",
    "purchase_count = stats_per_gender[\"Purchase ID\"].count()\n",
    "\n",
    "# Average purchase prices per gender\n",
    "avg_price = stats_per_gender[\"Price\"].mean()\n",
    "\n",
    "# Average purchase total per gender \n",
    "avg_total = stats_per_gender[\"Price\"].sum()\n",
    "\n",
    "# Average purchase total per gender / by purchase count per unique shoppers\n",
    "avg_purchase_per_person = avg_total/gender_count\n",
    "\n",
    "# create df \n",
    "gender_dems = pd.DataFrame({\"# Purchase Count\": total_purchases, \n",
    "                                    \"Average Purchase Price\": avg_price,\n",
    "                                    \"Average Purchase Value\":avg_total,\n",
    "                                    \"Avg Purchase Total per Person\": avg_purchase_per_person})\n",
    "\n",
    "# top left index \"Gender\"\n",
    "gender_dems.index.name = \"Gender\"\n",
    "\n",
    "# Format with currency style\n",
    "gender_dems.style.format({\"Average Purchase Value\":\"${:,.2f}\",\n",
    "                                  \"Average Purchase Price\":\"${:,.2f}\",\n",
    "                                  \"Avg Purchase Total per Person\":\"${:,.2f}\"})"
   ]
  },
  {
   "cell_type": "markdown",
   "metadata": {},
   "source": [
    "## Age Demographics"
   ]
  },
  {
   "cell_type": "markdown",
   "metadata": {},
   "source": [
    "* Establish bins for ages\n",
    "\n",
    "\n",
    "* Categorize the existing players using the age bins. Hint: use pd.cut()\n",
    "\n",
    "\n",
    "* Calculate the numbers and percentages by age group\n",
    "\n",
    "\n",
    "* Create a summary data frame to hold the results\n",
    "\n",
    "\n",
    "* Optional: round the percentage column to two decimal points\n",
    "\n",
    "\n",
    "* Display Age Demographics Table\n"
   ]
  },
  {
   "cell_type": "code",
   "execution_count": 18,
   "metadata": {},
   "outputs": [
    {
     "data": {
      "text/html": [
       "<style  type=\"text/css\" >\n",
       "</style><table id=\"T_7620b75a_0da2_11eb_b6c6_402343a8de8c\" ><thead>    <tr>        <th class=\"blank level0\" ></th>        <th class=\"col_heading level0 col0\" >Percentage of Players</th>        <th class=\"col_heading level0 col1\" >Total Count</th>    </tr></thead><tbody>\n",
       "                <tr>\n",
       "                        <th id=\"T_7620b75a_0da2_11eb_b6c6_402343a8de8clevel0_row0\" class=\"row_heading level0 row0\" ><10</th>\n",
       "                        <td id=\"T_7620b75a_0da2_11eb_b6c6_402343a8de8crow0_col0\" class=\"data row0 col0\" >4.17</td>\n",
       "                        <td id=\"T_7620b75a_0da2_11eb_b6c6_402343a8de8crow0_col1\" class=\"data row0 col1\" >24</td>\n",
       "            </tr>\n",
       "            <tr>\n",
       "                        <th id=\"T_7620b75a_0da2_11eb_b6c6_402343a8de8clevel0_row1\" class=\"row_heading level0 row1\" >10-15</th>\n",
       "                        <td id=\"T_7620b75a_0da2_11eb_b6c6_402343a8de8crow1_col0\" class=\"data row1 col0\" >7.12</td>\n",
       "                        <td id=\"T_7620b75a_0da2_11eb_b6c6_402343a8de8crow1_col1\" class=\"data row1 col1\" >41</td>\n",
       "            </tr>\n",
       "            <tr>\n",
       "                        <th id=\"T_7620b75a_0da2_11eb_b6c6_402343a8de8clevel0_row2\" class=\"row_heading level0 row2\" >15-20</th>\n",
       "                        <td id=\"T_7620b75a_0da2_11eb_b6c6_402343a8de8crow2_col0\" class=\"data row2 col0\" >26.04</td>\n",
       "                        <td id=\"T_7620b75a_0da2_11eb_b6c6_402343a8de8crow2_col1\" class=\"data row2 col1\" >150</td>\n",
       "            </tr>\n",
       "            <tr>\n",
       "                        <th id=\"T_7620b75a_0da2_11eb_b6c6_402343a8de8clevel0_row3\" class=\"row_heading level0 row3\" >20-25</th>\n",
       "                        <td id=\"T_7620b75a_0da2_11eb_b6c6_402343a8de8crow3_col0\" class=\"data row3 col0\" >40.28</td>\n",
       "                        <td id=\"T_7620b75a_0da2_11eb_b6c6_402343a8de8crow3_col1\" class=\"data row3 col1\" >232</td>\n",
       "            </tr>\n",
       "            <tr>\n",
       "                        <th id=\"T_7620b75a_0da2_11eb_b6c6_402343a8de8clevel0_row4\" class=\"row_heading level0 row4\" >25-30</th>\n",
       "                        <td id=\"T_7620b75a_0da2_11eb_b6c6_402343a8de8crow4_col0\" class=\"data row4 col0\" >10.24</td>\n",
       "                        <td id=\"T_7620b75a_0da2_11eb_b6c6_402343a8de8crow4_col1\" class=\"data row4 col1\" >59</td>\n",
       "            </tr>\n",
       "            <tr>\n",
       "                        <th id=\"T_7620b75a_0da2_11eb_b6c6_402343a8de8clevel0_row5\" class=\"row_heading level0 row5\" >30-35</th>\n",
       "                        <td id=\"T_7620b75a_0da2_11eb_b6c6_402343a8de8crow5_col0\" class=\"data row5 col0\" >6.42</td>\n",
       "                        <td id=\"T_7620b75a_0da2_11eb_b6c6_402343a8de8crow5_col1\" class=\"data row5 col1\" >37</td>\n",
       "            </tr>\n",
       "            <tr>\n",
       "                        <th id=\"T_7620b75a_0da2_11eb_b6c6_402343a8de8clevel0_row6\" class=\"row_heading level0 row6\" >35-40</th>\n",
       "                        <td id=\"T_7620b75a_0da2_11eb_b6c6_402343a8de8crow6_col0\" class=\"data row6 col0\" >4.51</td>\n",
       "                        <td id=\"T_7620b75a_0da2_11eb_b6c6_402343a8de8crow6_col1\" class=\"data row6 col1\" >26</td>\n",
       "            </tr>\n",
       "            <tr>\n",
       "                        <th id=\"T_7620b75a_0da2_11eb_b6c6_402343a8de8clevel0_row7\" class=\"row_heading level0 row7\" >40+</th>\n",
       "                        <td id=\"T_7620b75a_0da2_11eb_b6c6_402343a8de8crow7_col0\" class=\"data row7 col0\" >1.22</td>\n",
       "                        <td id=\"T_7620b75a_0da2_11eb_b6c6_402343a8de8crow7_col1\" class=\"data row7 col1\" >7</td>\n",
       "            </tr>\n",
       "    </tbody></table>"
      ],
      "text/plain": [
       "<pandas.io.formats.style.Styler at 0x140db3921c0>"
      ]
     },
     "execution_count": 18,
     "metadata": {},
     "output_type": "execute_result"
    }
   ],
   "source": [
    "# create bins for ages\n",
    "age_bins = [0, 10, 15, 20, 25, 30, 35, 40, 99999]\n",
    "group_names = [\"<10\", \"10-15\", \"15-20\", \"20-25\", \"25-30\", \"30-35\", \"35-40\", \"40+\"]\n",
    "\n",
    "# sort age values into bins \n",
    "purchase_data_df[\"Age Group\"] = pd.cut(purchase_data_df[\"Age\"],age_bins, labels=group_names)\n",
    "purchase_data_df\n",
    "\n",
    "# Create new data frame with the added \"Age Data Group\" \n",
    "age_datagrouped = purchase_data_df.groupby(\"Age Group\")\n",
    "\n",
    "# Count total players by age category\n",
    "totalcount_byage = age_datagrouped[\"SN\"].nunique()\n",
    "\n",
    "# Calculate percentages by age category\n",
    "percentage_age = (totalcount_byage/player_count) * 100\n",
    "\n",
    "# Create data frame \n",
    "age_dems = pd.DataFrame({\"Percentage of Players\": percentage_age, \"Total Count\": totalcount_byage})\n",
    "\n",
    "# create data frame \n",
    "age_dems.index.name = None\n",
    "\n",
    "# Format percentage with two decimal places\n",
    "age_dems.style.format({\"Percentage of Players\":\"{:,.2f}\"})"
   ]
  },
  {
   "cell_type": "markdown",
   "metadata": {},
   "source": [
    "## Purchasing Analysis (Age)"
   ]
  },
  {
   "cell_type": "markdown",
   "metadata": {},
   "source": [
    "* Bin the purchase_data data frame by age\n",
    "\n",
    "\n",
    "* Run basic calculations to obtain purchase count, avg. purchase price, avg. purchase total per person etc. in the table below\n",
    "\n",
    "\n",
    "* Create a summary data frame to hold the results\n",
    "\n",
    "\n",
    "* Optional: give the displayed data cleaner formatting\n",
    "\n",
    "\n",
    "* Display the summary data frame"
   ]
  },
  {
   "cell_type": "code",
   "execution_count": 19,
   "metadata": {},
   "outputs": [
    {
     "data": {
      "text/html": [
       "<style  type=\"text/css\" >\n",
       "</style><table id=\"T_52f0e5a4_0da5_11eb_a627_402343a8de8c\" ><thead>    <tr>        <th class=\"blank level0\" ></th>        <th class=\"col_heading level0 col0\" >Purchase Count</th>        <th class=\"col_heading level0 col1\" >Average Purchase Price</th>        <th class=\"col_heading level0 col2\" >Total Purchase Value</th>        <th class=\"col_heading level0 col3\" >Average Purchase Total per Person</th>    </tr></thead><tbody>\n",
       "                <tr>\n",
       "                        <th id=\"T_52f0e5a4_0da5_11eb_a627_402343a8de8clevel0_row0\" class=\"row_heading level0 row0\" ><10</th>\n",
       "                        <td id=\"T_52f0e5a4_0da5_11eb_a627_402343a8de8crow0_col0\" class=\"data row0 col0\" >32</td>\n",
       "                        <td id=\"T_52f0e5a4_0da5_11eb_a627_402343a8de8crow0_col1\" class=\"data row0 col1\" >$3.40</td>\n",
       "                        <td id=\"T_52f0e5a4_0da5_11eb_a627_402343a8de8crow0_col2\" class=\"data row0 col2\" >$108.96</td>\n",
       "                        <td id=\"T_52f0e5a4_0da5_11eb_a627_402343a8de8crow0_col3\" class=\"data row0 col3\" >$4.54</td>\n",
       "            </tr>\n",
       "            <tr>\n",
       "                        <th id=\"T_52f0e5a4_0da5_11eb_a627_402343a8de8clevel0_row1\" class=\"row_heading level0 row1\" >10-15</th>\n",
       "                        <td id=\"T_52f0e5a4_0da5_11eb_a627_402343a8de8crow1_col0\" class=\"data row1 col0\" >54</td>\n",
       "                        <td id=\"T_52f0e5a4_0da5_11eb_a627_402343a8de8crow1_col1\" class=\"data row1 col1\" >$2.90</td>\n",
       "                        <td id=\"T_52f0e5a4_0da5_11eb_a627_402343a8de8crow1_col2\" class=\"data row1 col2\" >$156.60</td>\n",
       "                        <td id=\"T_52f0e5a4_0da5_11eb_a627_402343a8de8crow1_col3\" class=\"data row1 col3\" >$3.82</td>\n",
       "            </tr>\n",
       "            <tr>\n",
       "                        <th id=\"T_52f0e5a4_0da5_11eb_a627_402343a8de8clevel0_row2\" class=\"row_heading level0 row2\" >15-20</th>\n",
       "                        <td id=\"T_52f0e5a4_0da5_11eb_a627_402343a8de8crow2_col0\" class=\"data row2 col0\" >200</td>\n",
       "                        <td id=\"T_52f0e5a4_0da5_11eb_a627_402343a8de8crow2_col1\" class=\"data row2 col1\" >$3.11</td>\n",
       "                        <td id=\"T_52f0e5a4_0da5_11eb_a627_402343a8de8crow2_col2\" class=\"data row2 col2\" >$621.56</td>\n",
       "                        <td id=\"T_52f0e5a4_0da5_11eb_a627_402343a8de8crow2_col3\" class=\"data row2 col3\" >$4.14</td>\n",
       "            </tr>\n",
       "            <tr>\n",
       "                        <th id=\"T_52f0e5a4_0da5_11eb_a627_402343a8de8clevel0_row3\" class=\"row_heading level0 row3\" >20-25</th>\n",
       "                        <td id=\"T_52f0e5a4_0da5_11eb_a627_402343a8de8crow3_col0\" class=\"data row3 col0\" >325</td>\n",
       "                        <td id=\"T_52f0e5a4_0da5_11eb_a627_402343a8de8crow3_col1\" class=\"data row3 col1\" >$3.02</td>\n",
       "                        <td id=\"T_52f0e5a4_0da5_11eb_a627_402343a8de8crow3_col2\" class=\"data row3 col2\" >$981.64</td>\n",
       "                        <td id=\"T_52f0e5a4_0da5_11eb_a627_402343a8de8crow3_col3\" class=\"data row3 col3\" >$4.23</td>\n",
       "            </tr>\n",
       "            <tr>\n",
       "                        <th id=\"T_52f0e5a4_0da5_11eb_a627_402343a8de8clevel0_row4\" class=\"row_heading level0 row4\" >25-30</th>\n",
       "                        <td id=\"T_52f0e5a4_0da5_11eb_a627_402343a8de8crow4_col0\" class=\"data row4 col0\" >77</td>\n",
       "                        <td id=\"T_52f0e5a4_0da5_11eb_a627_402343a8de8crow4_col1\" class=\"data row4 col1\" >$2.88</td>\n",
       "                        <td id=\"T_52f0e5a4_0da5_11eb_a627_402343a8de8crow4_col2\" class=\"data row4 col2\" >$221.42</td>\n",
       "                        <td id=\"T_52f0e5a4_0da5_11eb_a627_402343a8de8crow4_col3\" class=\"data row4 col3\" >$3.75</td>\n",
       "            </tr>\n",
       "            <tr>\n",
       "                        <th id=\"T_52f0e5a4_0da5_11eb_a627_402343a8de8clevel0_row5\" class=\"row_heading level0 row5\" >30-35</th>\n",
       "                        <td id=\"T_52f0e5a4_0da5_11eb_a627_402343a8de8crow5_col0\" class=\"data row5 col0\" >52</td>\n",
       "                        <td id=\"T_52f0e5a4_0da5_11eb_a627_402343a8de8crow5_col1\" class=\"data row5 col1\" >$2.99</td>\n",
       "                        <td id=\"T_52f0e5a4_0da5_11eb_a627_402343a8de8crow5_col2\" class=\"data row5 col2\" >$155.71</td>\n",
       "                        <td id=\"T_52f0e5a4_0da5_11eb_a627_402343a8de8crow5_col3\" class=\"data row5 col3\" >$4.21</td>\n",
       "            </tr>\n",
       "            <tr>\n",
       "                        <th id=\"T_52f0e5a4_0da5_11eb_a627_402343a8de8clevel0_row6\" class=\"row_heading level0 row6\" >35-40</th>\n",
       "                        <td id=\"T_52f0e5a4_0da5_11eb_a627_402343a8de8crow6_col0\" class=\"data row6 col0\" >33</td>\n",
       "                        <td id=\"T_52f0e5a4_0da5_11eb_a627_402343a8de8crow6_col1\" class=\"data row6 col1\" >$3.40</td>\n",
       "                        <td id=\"T_52f0e5a4_0da5_11eb_a627_402343a8de8crow6_col2\" class=\"data row6 col2\" >$112.35</td>\n",
       "                        <td id=\"T_52f0e5a4_0da5_11eb_a627_402343a8de8crow6_col3\" class=\"data row6 col3\" >$4.32</td>\n",
       "            </tr>\n",
       "            <tr>\n",
       "                        <th id=\"T_52f0e5a4_0da5_11eb_a627_402343a8de8clevel0_row7\" class=\"row_heading level0 row7\" >40+</th>\n",
       "                        <td id=\"T_52f0e5a4_0da5_11eb_a627_402343a8de8crow7_col0\" class=\"data row7 col0\" >7</td>\n",
       "                        <td id=\"T_52f0e5a4_0da5_11eb_a627_402343a8de8crow7_col1\" class=\"data row7 col1\" >$3.08</td>\n",
       "                        <td id=\"T_52f0e5a4_0da5_11eb_a627_402343a8de8crow7_col2\" class=\"data row7 col2\" >$21.53</td>\n",
       "                        <td id=\"T_52f0e5a4_0da5_11eb_a627_402343a8de8crow7_col3\" class=\"data row7 col3\" >$3.08</td>\n",
       "            </tr>\n",
       "    </tbody></table>"
      ],
      "text/plain": [
       "<pandas.io.formats.style.Styler at 0x140db37afa0>"
      ]
     },
     "execution_count": 19,
     "metadata": {},
     "output_type": "execute_result"
    }
   ],
   "source": [
    "# Count purchases by age group\n",
    "purchase_byage = age_datagrouped[\"Purchase ID\"].count()\n",
    "\n",
    "# Obtain average purchase price by age group \n",
    "avgpurchase_age = age_datagrouped[\"Price\"].mean()\n",
    "\n",
    "# Calculate total purchase value by age group \n",
    "total_purchase_value = age_datagrouped[\"Price\"].sum()\n",
    "\n",
    "# Calculate the average purchase per person in the age group \n",
    "avgpurch_byperage = total_purchase_value/totalcount_byage\n",
    "\n",
    "# Create data frame with obtained values\n",
    "age_dems = pd.DataFrame({\"Purchase Count\": purchase_byage,\n",
    "                                 \"Average Purchase Price\": avgpurchase_age,\n",
    "                                 \"Total Purchase Value\":total_purchase_value,\n",
    "                                 \"Average Purchase Total per Person\": avgpurch_byperage})\n",
    "\n",
    "# Format the data frame with no index name in the corner\n",
    "age_dems.index.name = None\n",
    "\n",
    "# Format with currency style\n",
    "age_dems.style.format({\"Average Purchase Price\":\"${:,.2f}\",\n",
    "                               \"Total Purchase Value\":\"${:,.2f}\",\n",
    "                               \"Average Purchase Total per Person\":\"${:,.2f}\"})"
   ]
  },
  {
   "cell_type": "markdown",
   "metadata": {},
   "source": [
    "## Top Spenders"
   ]
  },
  {
   "cell_type": "markdown",
   "metadata": {},
   "source": [
    "* Run basic calculations to obtain the results in the table below\n",
    "\n",
    "\n",
    "* Create a summary data frame to hold the results\n",
    "\n",
    "\n",
    "* Sort the total purchase value column in descending order\n",
    "\n",
    "\n",
    "* Optional: give the displayed data cleaner formatting\n",
    "\n",
    "\n",
    "* Display a preview of the summary data frame\n",
    "\n"
   ]
  },
  {
   "cell_type": "code",
   "execution_count": 20,
   "metadata": {},
   "outputs": [
    {
     "data": {
      "text/html": [
       "<style  type=\"text/css\" >\n",
       "</style><table id=\"T_2dc8002f_0da6_11eb_8505_402343a8de8c\" ><thead>    <tr>        <th class=\"blank level0\" ></th>        <th class=\"col_heading level0 col0\" >Purchase Count</th>        <th class=\"col_heading level0 col1\" >Average Purchase Price</th>        <th class=\"col_heading level0 col2\" >Total Purchase Value</th>    </tr>    <tr>        <th class=\"index_name level0\" >SN</th>        <th class=\"blank\" ></th>        <th class=\"blank\" ></th>        <th class=\"blank\" ></th>    </tr></thead><tbody>\n",
       "                <tr>\n",
       "                        <th id=\"T_2dc8002f_0da6_11eb_8505_402343a8de8clevel0_row0\" class=\"row_heading level0 row0\" >Lisosia93</th>\n",
       "                        <td id=\"T_2dc8002f_0da6_11eb_8505_402343a8de8crow0_col0\" class=\"data row0 col0\" >18.960000</td>\n",
       "                        <td id=\"T_2dc8002f_0da6_11eb_8505_402343a8de8crow0_col1\" class=\"data row0 col1\" >$3.79</td>\n",
       "                        <td id=\"T_2dc8002f_0da6_11eb_8505_402343a8de8crow0_col2\" class=\"data row0 col2\" >$18.96</td>\n",
       "            </tr>\n",
       "            <tr>\n",
       "                        <th id=\"T_2dc8002f_0da6_11eb_8505_402343a8de8clevel0_row1\" class=\"row_heading level0 row1\" >Idastidru52</th>\n",
       "                        <td id=\"T_2dc8002f_0da6_11eb_8505_402343a8de8crow1_col0\" class=\"data row1 col0\" >15.450000</td>\n",
       "                        <td id=\"T_2dc8002f_0da6_11eb_8505_402343a8de8crow1_col1\" class=\"data row1 col1\" >$3.86</td>\n",
       "                        <td id=\"T_2dc8002f_0da6_11eb_8505_402343a8de8crow1_col2\" class=\"data row1 col2\" >$15.45</td>\n",
       "            </tr>\n",
       "            <tr>\n",
       "                        <th id=\"T_2dc8002f_0da6_11eb_8505_402343a8de8clevel0_row2\" class=\"row_heading level0 row2\" >Chamjask73</th>\n",
       "                        <td id=\"T_2dc8002f_0da6_11eb_8505_402343a8de8crow2_col0\" class=\"data row2 col0\" >13.830000</td>\n",
       "                        <td id=\"T_2dc8002f_0da6_11eb_8505_402343a8de8crow2_col1\" class=\"data row2 col1\" >$4.61</td>\n",
       "                        <td id=\"T_2dc8002f_0da6_11eb_8505_402343a8de8crow2_col2\" class=\"data row2 col2\" >$13.83</td>\n",
       "            </tr>\n",
       "            <tr>\n",
       "                        <th id=\"T_2dc8002f_0da6_11eb_8505_402343a8de8clevel0_row3\" class=\"row_heading level0 row3\" >Iral74</th>\n",
       "                        <td id=\"T_2dc8002f_0da6_11eb_8505_402343a8de8crow3_col0\" class=\"data row3 col0\" >13.620000</td>\n",
       "                        <td id=\"T_2dc8002f_0da6_11eb_8505_402343a8de8crow3_col1\" class=\"data row3 col1\" >$3.40</td>\n",
       "                        <td id=\"T_2dc8002f_0da6_11eb_8505_402343a8de8crow3_col2\" class=\"data row3 col2\" >$13.62</td>\n",
       "            </tr>\n",
       "            <tr>\n",
       "                        <th id=\"T_2dc8002f_0da6_11eb_8505_402343a8de8clevel0_row4\" class=\"row_heading level0 row4\" >Iskadarya95</th>\n",
       "                        <td id=\"T_2dc8002f_0da6_11eb_8505_402343a8de8crow4_col0\" class=\"data row4 col0\" >13.100000</td>\n",
       "                        <td id=\"T_2dc8002f_0da6_11eb_8505_402343a8de8crow4_col1\" class=\"data row4 col1\" >$4.37</td>\n",
       "                        <td id=\"T_2dc8002f_0da6_11eb_8505_402343a8de8crow4_col2\" class=\"data row4 col2\" >$13.10</td>\n",
       "            </tr>\n",
       "    </tbody></table>"
      ],
      "text/plain": [
       "<pandas.io.formats.style.Styler at 0x140db2e2d00>"
      ]
     },
     "execution_count": 20,
     "metadata": {},
     "output_type": "execute_result"
    }
   ],
   "source": [
    "# Group purchase data by screen names\n",
    "spending_stats = purchase_data_df.groupby(\"SN\")\n",
    "\n",
    "# Count the total purchases by name\n",
    "purchaseby_spender = spending_stats[\"Purchase ID\"].count()\n",
    "\n",
    "# Calculate the average purchase by name \n",
    "avgprice_spender = spending_stats[\"Price\"].mean()\n",
    "\n",
    "# Calculate purchase total \n",
    "purchaseby_spender = spending_stats[\"Price\"].sum()\n",
    "\n",
    "# Create data frame with obtained values\n",
    "top_spenders = pd.DataFrame({\"Purchase Count\": purchaseby_spender,\n",
    "                             \"Average Purchase Price\": avgprice_spender,\n",
    "                             \"Total Purchase Value\":purchaseby_spender})\n",
    "\n",
    "# Sort in descending order to obtain top 5 spender names \n",
    "format_spenders = top_spenders.sort_values([\"Total Purchase Value\"], ascending=False).head()\n",
    "\n",
    "# Format with currency style\n",
    "format_spenders.style.format({\"Average Purchase Total\":\"${:,.2f}\",\n",
    "                                 \"Average Purchase Price\":\"${:,.2f}\", \n",
    "                                 \"Total Purchase Value\":\"${:,.2f}\"})"
   ]
  },
  {
   "cell_type": "markdown",
   "metadata": {},
   "source": [
    "## Most Popular Items"
   ]
  },
  {
   "cell_type": "markdown",
   "metadata": {},
   "source": [
    "* Retrieve the Item ID, Item Name, and Item Price columns\n",
    "\n",
    "\n",
    "* Group by Item ID and Item Name. Perform calculations to obtain purchase count, average item price, and total purchase value\n",
    "\n",
    "\n",
    "* Create a summary data frame to hold the results\n",
    "\n",
    "\n",
    "* Sort the purchase count column in descending order\n",
    "\n",
    "\n",
    "* Optional: give the displayed data cleaner formatting\n",
    "\n",
    "\n",
    "* Display a preview of the summary data frame\n",
    "\n"
   ]
  },
  {
   "cell_type": "code",
   "execution_count": 22,
   "metadata": {},
   "outputs": [
    {
     "data": {
      "text/html": [
       "<style  type=\"text/css\" >\n",
       "</style><table id=\"T_20ab4413_0da7_11eb_a930_402343a8de8c\" ><thead>    <tr>        <th class=\"blank\" ></th>        <th class=\"blank level0\" ></th>        <th class=\"col_heading level0 col0\" >Purchase Count</th>        <th class=\"col_heading level0 col1\" >Item Price</th>        <th class=\"col_heading level0 col2\" >Total Purchase Value</th>    </tr>    <tr>        <th class=\"index_name level0\" >Item ID</th>        <th class=\"index_name level1\" >Item Name</th>        <th class=\"blank\" ></th>        <th class=\"blank\" ></th>        <th class=\"blank\" ></th>    </tr></thead><tbody>\n",
       "                <tr>\n",
       "                        <th id=\"T_20ab4413_0da7_11eb_a930_402343a8de8clevel0_row0\" class=\"row_heading level0 row0\" >92</th>\n",
       "                        <th id=\"T_20ab4413_0da7_11eb_a930_402343a8de8clevel1_row0\" class=\"row_heading level1 row0\" >Final Critic</th>\n",
       "                        <td id=\"T_20ab4413_0da7_11eb_a930_402343a8de8crow0_col0\" class=\"data row0 col0\" >13</td>\n",
       "                        <td id=\"T_20ab4413_0da7_11eb_a930_402343a8de8crow0_col1\" class=\"data row0 col1\" >$4.61</td>\n",
       "                        <td id=\"T_20ab4413_0da7_11eb_a930_402343a8de8crow0_col2\" class=\"data row0 col2\" >$59.99</td>\n",
       "            </tr>\n",
       "            <tr>\n",
       "                        <th id=\"T_20ab4413_0da7_11eb_a930_402343a8de8clevel0_row1\" class=\"row_heading level0 row1\" >178</th>\n",
       "                        <th id=\"T_20ab4413_0da7_11eb_a930_402343a8de8clevel1_row1\" class=\"row_heading level1 row1\" >Oathbreaker, Last Hope of the Breaking Storm</th>\n",
       "                        <td id=\"T_20ab4413_0da7_11eb_a930_402343a8de8crow1_col0\" class=\"data row1 col0\" >12</td>\n",
       "                        <td id=\"T_20ab4413_0da7_11eb_a930_402343a8de8crow1_col1\" class=\"data row1 col1\" >$4.23</td>\n",
       "                        <td id=\"T_20ab4413_0da7_11eb_a930_402343a8de8crow1_col2\" class=\"data row1 col2\" >$50.76</td>\n",
       "            </tr>\n",
       "            <tr>\n",
       "                        <th id=\"T_20ab4413_0da7_11eb_a930_402343a8de8clevel0_row2\" class=\"row_heading level0 row2\" >145</th>\n",
       "                        <th id=\"T_20ab4413_0da7_11eb_a930_402343a8de8clevel1_row2\" class=\"row_heading level1 row2\" >Fiery Glass Crusader</th>\n",
       "                        <td id=\"T_20ab4413_0da7_11eb_a930_402343a8de8crow2_col0\" class=\"data row2 col0\" >9</td>\n",
       "                        <td id=\"T_20ab4413_0da7_11eb_a930_402343a8de8crow2_col1\" class=\"data row2 col1\" >$4.58</td>\n",
       "                        <td id=\"T_20ab4413_0da7_11eb_a930_402343a8de8crow2_col2\" class=\"data row2 col2\" >$41.22</td>\n",
       "            </tr>\n",
       "            <tr>\n",
       "                        <th id=\"T_20ab4413_0da7_11eb_a930_402343a8de8clevel0_row3\" class=\"row_heading level0 row3\" >132</th>\n",
       "                        <th id=\"T_20ab4413_0da7_11eb_a930_402343a8de8clevel1_row3\" class=\"row_heading level1 row3\" >Persuasion</th>\n",
       "                        <td id=\"T_20ab4413_0da7_11eb_a930_402343a8de8crow3_col0\" class=\"data row3 col0\" >9</td>\n",
       "                        <td id=\"T_20ab4413_0da7_11eb_a930_402343a8de8crow3_col1\" class=\"data row3 col1\" >$3.22</td>\n",
       "                        <td id=\"T_20ab4413_0da7_11eb_a930_402343a8de8crow3_col2\" class=\"data row3 col2\" >$28.99</td>\n",
       "            </tr>\n",
       "            <tr>\n",
       "                        <th id=\"T_20ab4413_0da7_11eb_a930_402343a8de8clevel0_row4\" class=\"row_heading level0 row4\" >108</th>\n",
       "                        <th id=\"T_20ab4413_0da7_11eb_a930_402343a8de8clevel1_row4\" class=\"row_heading level1 row4\" >Extraction, Quickblade Of Trembling Hands</th>\n",
       "                        <td id=\"T_20ab4413_0da7_11eb_a930_402343a8de8crow4_col0\" class=\"data row4 col0\" >9</td>\n",
       "                        <td id=\"T_20ab4413_0da7_11eb_a930_402343a8de8crow4_col1\" class=\"data row4 col1\" >$3.53</td>\n",
       "                        <td id=\"T_20ab4413_0da7_11eb_a930_402343a8de8crow4_col2\" class=\"data row4 col2\" >$31.77</td>\n",
       "            </tr>\n",
       "    </tbody></table>"
      ],
      "text/plain": [
       "<pandas.io.formats.style.Styler at 0x140db2c4fa0>"
      ]
     },
     "execution_count": 22,
     "metadata": {},
     "output_type": "execute_result"
    }
   ],
   "source": [
    "items = purchase_data_df[[\"Item ID\", \"Item Name\", \"Price\"]]\n",
    "\n",
    "# Group the item data by item id and item name \n",
    "statsby_item = items.groupby([\"Item ID\",\"Item Name\"])\n",
    "\n",
    "# Count the number of times an item has been purchased \n",
    "purchase_count_item = statsby_item[\"Price\"].count()\n",
    "\n",
    "# Calcualte the purchase value per item \n",
    "valueof_purchase = (statsby_item[\"Price\"].sum()) \n",
    "\n",
    "# Find individual item price\n",
    "item_price = valueof_purchase/purchase_count_item\n",
    "\n",
    "# Create data frame with obtained values\n",
    "mostpopular_items = pd.DataFrame({\"Purchase Count\": purchase_count_item, \n",
    "                                   \"Item Price\": item_price,\n",
    "                                   \"Total Purchase Value\":valueof_purchase})\n",
    "\n",
    "# Sort in descending order to obtain top spender names and provide top 5 item names\n",
    "popular_format = mostpopular_items.sort_values([\"Purchase Count\"], ascending=False).head()\n",
    "\n",
    "# Format with currency style\n",
    "popular_format.style.format({\"Item Price\":\"${:,.2f}\",\n",
    "                                \"Total Purchase Value\":\"${:,.2f}\"})"
   ]
  },
  {
   "cell_type": "markdown",
   "metadata": {},
   "source": [
    "## Most Profitable Items"
   ]
  },
  {
   "cell_type": "markdown",
   "metadata": {},
   "source": [
    "* Sort the above table by total purchase value in descending order\n",
    "\n",
    "\n",
    "* Optional: give the displayed data cleaner formatting\n",
    "\n",
    "\n",
    "* Display a preview of the data frame\n",
    "\n"
   ]
  },
  {
   "cell_type": "code",
   "execution_count": 23,
   "metadata": {
    "scrolled": true
   },
   "outputs": [
    {
     "data": {
      "text/html": [
       "<style  type=\"text/css\" >\n",
       "</style><table id=\"T_39e8f541_0da7_11eb_89d5_402343a8de8c\" ><thead>    <tr>        <th class=\"blank\" ></th>        <th class=\"blank level0\" ></th>        <th class=\"col_heading level0 col0\" >Purchase Count</th>        <th class=\"col_heading level0 col1\" >Item Price</th>        <th class=\"col_heading level0 col2\" >Total Purchase Value</th>    </tr>    <tr>        <th class=\"index_name level0\" >Item ID</th>        <th class=\"index_name level1\" >Item Name</th>        <th class=\"blank\" ></th>        <th class=\"blank\" ></th>        <th class=\"blank\" ></th>    </tr></thead><tbody>\n",
       "                <tr>\n",
       "                        <th id=\"T_39e8f541_0da7_11eb_89d5_402343a8de8clevel0_row0\" class=\"row_heading level0 row0\" >92</th>\n",
       "                        <th id=\"T_39e8f541_0da7_11eb_89d5_402343a8de8clevel1_row0\" class=\"row_heading level1 row0\" >Final Critic</th>\n",
       "                        <td id=\"T_39e8f541_0da7_11eb_89d5_402343a8de8crow0_col0\" class=\"data row0 col0\" >13</td>\n",
       "                        <td id=\"T_39e8f541_0da7_11eb_89d5_402343a8de8crow0_col1\" class=\"data row0 col1\" >$4.61</td>\n",
       "                        <td id=\"T_39e8f541_0da7_11eb_89d5_402343a8de8crow0_col2\" class=\"data row0 col2\" >$59.99</td>\n",
       "            </tr>\n",
       "            <tr>\n",
       "                        <th id=\"T_39e8f541_0da7_11eb_89d5_402343a8de8clevel0_row1\" class=\"row_heading level0 row1\" >178</th>\n",
       "                        <th id=\"T_39e8f541_0da7_11eb_89d5_402343a8de8clevel1_row1\" class=\"row_heading level1 row1\" >Oathbreaker, Last Hope of the Breaking Storm</th>\n",
       "                        <td id=\"T_39e8f541_0da7_11eb_89d5_402343a8de8crow1_col0\" class=\"data row1 col0\" >12</td>\n",
       "                        <td id=\"T_39e8f541_0da7_11eb_89d5_402343a8de8crow1_col1\" class=\"data row1 col1\" >$4.23</td>\n",
       "                        <td id=\"T_39e8f541_0da7_11eb_89d5_402343a8de8crow1_col2\" class=\"data row1 col2\" >$50.76</td>\n",
       "            </tr>\n",
       "            <tr>\n",
       "                        <th id=\"T_39e8f541_0da7_11eb_89d5_402343a8de8clevel0_row2\" class=\"row_heading level0 row2\" >145</th>\n",
       "                        <th id=\"T_39e8f541_0da7_11eb_89d5_402343a8de8clevel1_row2\" class=\"row_heading level1 row2\" >Fiery Glass Crusader</th>\n",
       "                        <td id=\"T_39e8f541_0da7_11eb_89d5_402343a8de8crow2_col0\" class=\"data row2 col0\" >9</td>\n",
       "                        <td id=\"T_39e8f541_0da7_11eb_89d5_402343a8de8crow2_col1\" class=\"data row2 col1\" >$4.58</td>\n",
       "                        <td id=\"T_39e8f541_0da7_11eb_89d5_402343a8de8crow2_col2\" class=\"data row2 col2\" >$41.22</td>\n",
       "            </tr>\n",
       "            <tr>\n",
       "                        <th id=\"T_39e8f541_0da7_11eb_89d5_402343a8de8clevel0_row3\" class=\"row_heading level0 row3\" >132</th>\n",
       "                        <th id=\"T_39e8f541_0da7_11eb_89d5_402343a8de8clevel1_row3\" class=\"row_heading level1 row3\" >Persuasion</th>\n",
       "                        <td id=\"T_39e8f541_0da7_11eb_89d5_402343a8de8crow3_col0\" class=\"data row3 col0\" >9</td>\n",
       "                        <td id=\"T_39e8f541_0da7_11eb_89d5_402343a8de8crow3_col1\" class=\"data row3 col1\" >$3.22</td>\n",
       "                        <td id=\"T_39e8f541_0da7_11eb_89d5_402343a8de8crow3_col2\" class=\"data row3 col2\" >$28.99</td>\n",
       "            </tr>\n",
       "            <tr>\n",
       "                        <th id=\"T_39e8f541_0da7_11eb_89d5_402343a8de8clevel0_row4\" class=\"row_heading level0 row4\" >108</th>\n",
       "                        <th id=\"T_39e8f541_0da7_11eb_89d5_402343a8de8clevel1_row4\" class=\"row_heading level1 row4\" >Extraction, Quickblade Of Trembling Hands</th>\n",
       "                        <td id=\"T_39e8f541_0da7_11eb_89d5_402343a8de8crow4_col0\" class=\"data row4 col0\" >9</td>\n",
       "                        <td id=\"T_39e8f541_0da7_11eb_89d5_402343a8de8crow4_col1\" class=\"data row4 col1\" >$3.53</td>\n",
       "                        <td id=\"T_39e8f541_0da7_11eb_89d5_402343a8de8crow4_col2\" class=\"data row4 col2\" >$31.77</td>\n",
       "            </tr>\n",
       "    </tbody></table>"
      ],
      "text/plain": [
       "<pandas.io.formats.style.Styler at 0x140db3935b0>"
      ]
     },
     "execution_count": 23,
     "metadata": {},
     "output_type": "execute_result"
    }
   ],
   "source": [
    "# Take the most_popular items data frame and change the sorting to find highest total purchase value\n",
    "popular_formatted = mostpopular_items.sort_values([\"Total Purchase Value\"],\n",
    "                                                   ascending=False).head()\n",
    "# Format with currency style\n",
    "popular_format.style.format({\"Item Price\":\"${:,.2f}\",\n",
    "                                \"Total Purchase Value\":\"${:,.2f}\"})"
   ]
  },
  {
   "cell_type": "code",
   "execution_count": null,
   "metadata": {},
   "outputs": [],
   "source": [
    "####Observations\n",
    "\n",
    "#1. The majority of players are male\n",
    "#2. Peak purchasing price seems to be ages 20 - 25 while ages 15 - 20 trail slightly behind. Could this be because younger 20 year olds have more purchasing power?\n",
    "#3. Males purchase more than females at a lower rate."
   ]
  }
 ],
 "metadata": {
  "anaconda-cloud": {},
  "kernel_info": {
   "name": "python3"
  },
  "kernelspec": {
   "display_name": "Python 3",
   "language": "python",
   "name": "python3"
  },
  "language_info": {
   "codemirror_mode": {
    "name": "ipython",
    "version": 3
   },
   "file_extension": ".py",
   "mimetype": "text/x-python",
   "name": "python",
   "nbconvert_exporter": "python",
   "pygments_lexer": "ipython3",
   "version": "3.8.3"
  },
  "latex_envs": {
   "LaTeX_envs_menu_present": true,
   "autoclose": false,
   "autocomplete": true,
   "bibliofile": "biblio.bib",
   "cite_by": "apalike",
   "current_citInitial": 1,
   "eqLabelWithNumbers": true,
   "eqNumInitial": 1,
   "hotkeys": {
    "equation": "Ctrl-E",
    "itemize": "Ctrl-I"
   },
   "labels_anchors": false,
   "latex_user_defs": false,
   "report_style_numbering": false,
   "user_envs_cfg": false
  },
  "nteract": {
   "version": "0.2.0"
  }
 },
 "nbformat": 4,
 "nbformat_minor": 2
}
